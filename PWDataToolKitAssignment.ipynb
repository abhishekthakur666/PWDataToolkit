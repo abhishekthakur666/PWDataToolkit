{
  "nbformat": 4,
  "nbformat_minor": 0,
  "metadata": {
    "colab": {
      "provenance": [],
      "mount_file_id": "1NTLNcyjWl3fyXuSfutwvG7C1esXBncPU",
      "authorship_tag": "ABX9TyOkLDIxjixtrECvky0OjiGY"
    },
    "kernelspec": {
      "name": "python3",
      "display_name": "Python 3"
    },
    "language_info": {
      "name": "python"
    }
  },
  "cells": [
    {
      "cell_type": "markdown",
      "source": [
        "# 1. Demonstrate three different methods for creating identical 2D arrays inNumPy.Provide the code for each method and the final output after each method"
      ],
      "metadata": {
        "id": "bTvkDVyM8t_z"
      }
    },
    {
      "cell_type": "code",
      "source": [
        "import numpy as np\n",
        "\n",
        "# Using nested lists\n",
        "array_1 = np.array([[1, 2, 3], [4, 5, 6], [7, 8, 9]])\n",
        "print(\"Method 1:\\n\", array_1)\n",
        "\n",
        "# Using arange and reshape\n",
        "array_2 = np.arange(1, 10).reshape(3, 3)\n",
        "print(\"\\nMethod 2:\\n\", array_2)\n",
        "\n",
        "\n",
        "# Using ones and addition\n",
        "array_3 = np.ones((3,3), dtype=int)\n",
        "for i in range(3):\n",
        "    for j in range(3):\n",
        "        array_3[i, j] += i*3 + j\n",
        "print(\"\\nMethod 3:\\n\", array_3)"
      ],
      "metadata": {
        "colab": {
          "base_uri": "https://localhost:8080/"
        },
        "id": "g4eqSk5u80vE",
        "outputId": "8ff4718d-2c1d-451c-ee54-ddbbf538a915"
      },
      "execution_count": 61,
      "outputs": [
        {
          "output_type": "stream",
          "name": "stdout",
          "text": [
            "Method 1:\n",
            " [[1 2 3]\n",
            " [4 5 6]\n",
            " [7 8 9]]\n",
            "\n",
            "Method 2:\n",
            " [[1 2 3]\n",
            " [4 5 6]\n",
            " [7 8 9]]\n",
            "\n",
            "Method 3:\n",
            " [[1 2 3]\n",
            " [4 5 6]\n",
            " [7 8 9]]\n"
          ]
        }
      ]
    },
    {
      "cell_type": "markdown",
      "source": [
        "# 2. Using the Numpy function, generate an array of 100 evenly spaced numbers between 1 and 100 and Reshape that 1D array into a 2D array\n"
      ],
      "metadata": {
        "id": "hMkaS1qlA76b"
      }
    },
    {
      "cell_type": "code",
      "source": [
        "# Using linspace and reshape\n",
        "array_4 = np.linspace(1, 10, 100).reshape(10, 10)\n",
        "print(\"\\nResult:\\n\", array_4)"
      ],
      "metadata": {
        "id": "Q1P3DJ579e-m",
        "colab": {
          "base_uri": "https://localhost:8080/"
        },
        "outputId": "5c2e40d2-191d-4066-9d03-0ab0c98b468b"
      },
      "execution_count": 62,
      "outputs": [
        {
          "output_type": "stream",
          "name": "stdout",
          "text": [
            "\n",
            "Result:\n",
            " [[ 1.          1.09090909  1.18181818  1.27272727  1.36363636  1.45454545\n",
            "   1.54545455  1.63636364  1.72727273  1.81818182]\n",
            " [ 1.90909091  2.          2.09090909  2.18181818  2.27272727  2.36363636\n",
            "   2.45454545  2.54545455  2.63636364  2.72727273]\n",
            " [ 2.81818182  2.90909091  3.          3.09090909  3.18181818  3.27272727\n",
            "   3.36363636  3.45454545  3.54545455  3.63636364]\n",
            " [ 3.72727273  3.81818182  3.90909091  4.          4.09090909  4.18181818\n",
            "   4.27272727  4.36363636  4.45454545  4.54545455]\n",
            " [ 4.63636364  4.72727273  4.81818182  4.90909091  5.          5.09090909\n",
            "   5.18181818  5.27272727  5.36363636  5.45454545]\n",
            " [ 5.54545455  5.63636364  5.72727273  5.81818182  5.90909091  6.\n",
            "   6.09090909  6.18181818  6.27272727  6.36363636]\n",
            " [ 6.45454545  6.54545455  6.63636364  6.72727273  6.81818182  6.90909091\n",
            "   7.          7.09090909  7.18181818  7.27272727]\n",
            " [ 7.36363636  7.45454545  7.54545455  7.63636364  7.72727273  7.81818182\n",
            "   7.90909091  8.          8.09090909  8.18181818]\n",
            " [ 8.27272727  8.36363636  8.45454545  8.54545455  8.63636364  8.72727273\n",
            "   8.81818182  8.90909091  9.          9.09090909]\n",
            " [ 9.18181818  9.27272727  9.36363636  9.45454545  9.54545455  9.63636364\n",
            "   9.72727273  9.81818182  9.90909091 10.        ]]\n"
          ]
        }
      ]
    },
    {
      "cell_type": "markdown",
      "source": [
        "#3.Explain the following terms:\n",
        "# - The difference in np.array, np.asarray and np.asanyarray\n",
        "# - The difference between Deep copy and shallow copy"
      ],
      "metadata": {
        "id": "U4_v35JjBu7k"
      }
    },
    {
      "cell_type": "code",
      "source": [
        "#Difference in np.array, np.asarray and np.asanyarray\n",
        "#np.array: This is the most common way to create an array in NumPy. It creates a new array object, copying the data from the input.  It accepts lists, tuples, other arrays, etc.\n",
        "#np.asarray:  Similar to np.array but it will not create a copy if the input is already a NumPy array. If the input is a different data type, it converts it into an array, creating a new array object.\n",
        "#np.asanyarray: Similar to np.asarray, but it also accepts other array-like objects without creating a copy. It's useful when you need to work with existing array objects directly.  If the input is already a NumPy array, it returns a reference to the original without creating a new object.\n",
        "\n",
        "# Demonstration\n",
        "#1\n",
        "arr = [1,2,3]\n",
        "arr_np = np.array(arr) # creates a new array object\n",
        "arr_asarray = np.asarray(arr) # creates a new array object\n",
        "arr_asanyarray = np.asanyarray(arr) # creates a new array object\n",
        "\n",
        "#2\n",
        "arr_np2 = np.array(arr_np) # creates a new array object\n",
        "arr_asarray2 = np.asarray(arr_np) # does not create a copy since it's already a numpy array\n",
        "arr_asanyarray2 = np.asanyarray(arr_np) # does not create a copy\n",
        "\n",
        "#Deep Copy vs Shallow copy\n",
        "#Deep copy: Creates a completely independent copy of the array and its data.  Modifications to the copy do not affect the original and vice-versa.  This consumes more memory but ensures data integrity.\n",
        "#Shallow copy: Creates a new array object, but the new array's data points to the same memory location as the original array. Changing elements in the copy will affect the original, and vice-versa. This saves memory but can lead to unexpected modifications.\n",
        "\n",
        "# Demonstrating deep copy\n",
        "original_array = np.array([1, 2, 3])\n",
        "deep_copy = original_array.copy() # Creates a new array object and copies the data\n",
        "deep_copy[0] = 99\n",
        "print(\"Original Array (Deep Copy):\", original_array)  # Original remains unchanged\n",
        "print(\"Deep Copy:\", deep_copy)\n",
        "\n",
        "# Demonstrating shallow copy\n",
        "original_array_2 = np.array([1, 2, 3])\n",
        "shallow_copy = original_array_2.view() # creates new array object but data points to same memory\n",
        "shallow_copy[0] = 99\n",
        "print(\"Original Array (Shallow Copy):\", original_array_2) # Original changes since data was not copied.\n",
        "print(\"Shallow Copy:\", shallow_copy)"
      ],
      "metadata": {
        "colab": {
          "base_uri": "https://localhost:8080/"
        },
        "id": "SZMsUXmFBhdX",
        "outputId": "abfbed91-fc4a-41ef-b5df-0b68fa2083b5"
      },
      "execution_count": 63,
      "outputs": [
        {
          "output_type": "stream",
          "name": "stdout",
          "text": [
            "Original Array (Deep Copy): [1 2 3]\n",
            "Deep Copy: [99  2  3]\n",
            "Original Array (Shallow Copy): [99  2  3]\n",
            "Shallow Copy: [99  2  3]\n"
          ]
        }
      ]
    },
    {
      "cell_type": "markdown",
      "source": [
        "# 4.Generate a 3X3 array with random floating-point numbers between 5 and 20.Then, round each number in the array to 2 decimal places."
      ],
      "metadata": {
        "id": "yi34ynUmDf3z"
      }
    },
    {
      "cell_type": "code",
      "source": [
        "import numpy as np\n",
        "\n",
        "# Generate a 3x3 array with random floating-point numbers between 5 and 20\n",
        "random_array = np.random.uniform(5, 20, size=(3, 3))\n",
        "\n",
        "print(random_array)\n",
        "\n",
        "# Round each number to 2 decimal places\n",
        "rounded_array = np.round(random_array, 2)\n",
        "\n",
        "print(rounded_array)"
      ],
      "metadata": {
        "colab": {
          "base_uri": "https://localhost:8080/"
        },
        "id": "vkTjgOjTDjQQ",
        "outputId": "5a57723c-0208-4020-cde4-d97d3878fda2"
      },
      "execution_count": 64,
      "outputs": [
        {
          "output_type": "stream",
          "name": "stdout",
          "text": [
            "[[ 7.66487746  9.87047413 18.59761191]\n",
            " [14.17146441  8.648356   14.62625032]\n",
            " [ 9.02402098 17.35648814 14.54159134]]\n",
            "[[ 7.66  9.87 18.6 ]\n",
            " [14.17  8.65 14.63]\n",
            " [ 9.02 17.36 14.54]]\n"
          ]
        }
      ]
    },
    {
      "cell_type": "markdown",
      "source": [
        "# 5.Create a NumPy array with random integers Petween 1 and 10 of shape (5,6).After creating the array perform the following operations:\n",
        "# a)Extract all even integers from array.\n",
        "# b)Extract all odd integers from array."
      ],
      "metadata": {
        "id": "4Dky7428EUBW"
      }
    },
    {
      "cell_type": "code",
      "source": [
        "import numpy as np\n",
        "\n",
        "# Create a 5x6 array with random integers between 1 and 10\n",
        "random_array = np.random.randint(1, 11, size=(5, 6))\n",
        "\n",
        "print(\"Original array:\\n\", random_array)\n",
        "\n",
        "# a) Extract all even integers\n",
        "even_numbers = random_array[random_array % 2 == 0]\n",
        "print(\"\\nEven numbers:\\n\", even_numbers)\n",
        "\n",
        "# b) Extract all odd integers\n",
        "odd_numbers = random_array[random_array % 2 != 0]\n",
        "print(\"\\nOdd numbers:\\n\", odd_numbers)"
      ],
      "metadata": {
        "colab": {
          "base_uri": "https://localhost:8080/"
        },
        "id": "4rTHUrC7EXga",
        "outputId": "3d2dbdf0-c907-4370-9e77-0436b397e2e4"
      },
      "execution_count": 65,
      "outputs": [
        {
          "output_type": "stream",
          "name": "stdout",
          "text": [
            "Original array:\n",
            " [[ 7  6  5 10  9  3]\n",
            " [ 7  1  1  5  9  8]\n",
            " [ 8  4  9  8  4 10]\n",
            " [10  7  4  8 10  5]\n",
            " [ 6  9  7  9  5  7]]\n",
            "\n",
            "Even numbers:\n",
            " [ 6 10  8  8  4  8  4 10 10  4  8 10  6]\n",
            "\n",
            "Odd numbers:\n",
            " [7 5 9 3 7 1 1 5 9 9 7 5 9 7 9 5 7]\n"
          ]
        }
      ]
    },
    {
      "cell_type": "markdown",
      "source": [
        "# 6.Create a 3D NumPy array of shape (3,3,3) containing random integers between 1 and 10.Perform the following operations:\n",
        "#a) Find the indices of the maximum values along each depth level (third axis).\n",
        "# b) Perform element-wise multiplication of between both array."
      ],
      "metadata": {
        "id": "GDtNHizbFK9H"
      }
    },
    {
      "cell_type": "code",
      "source": [
        "import numpy as np\n",
        "\n",
        "# Create a 3D NumPy array of shape (3, 3, 3) with random integers between 1 and 10\n",
        "array_3d = np.random.randint(1, 11, size=(3, 3, 3))\n",
        "print(\"Original 3D array:\\n\", array_3d)\n",
        "\n",
        "# a) Find the indices of the maximum values along each depth level (third axis)\n",
        "indices_of_max = np.argmax(array_3d, axis=2)\n",
        "print(\"\\nIndices of maximum values along each depth level:\\n\", indices_of_max)\n",
        "\n",
        "# b) Perform element-wise multiplication of the array with itself\n",
        "elementwise_product = array_3d * array_3d # or np.multiply(array_3d, array_3d)\n",
        "print(\"\\nElement-wise product of the array with itself:\\n\", elementwise_product)"
      ],
      "metadata": {
        "colab": {
          "base_uri": "https://localhost:8080/"
        },
        "id": "IR-XIgrEFMSx",
        "outputId": "0f7b884a-2a19-4744-c47c-f7fd7459da29"
      },
      "execution_count": 66,
      "outputs": [
        {
          "output_type": "stream",
          "name": "stdout",
          "text": [
            "Original 3D array:\n",
            " [[[ 7 10 10]\n",
            "  [ 7  9  4]\n",
            "  [ 3  1  5]]\n",
            "\n",
            " [[ 2  2  2]\n",
            "  [ 7  2  6]\n",
            "  [ 5  7  3]]\n",
            "\n",
            " [[ 8  3  3]\n",
            "  [ 6 10  5]\n",
            "  [ 6  3  8]]]\n",
            "\n",
            "Indices of maximum values along each depth level:\n",
            " [[1 1 2]\n",
            " [0 0 1]\n",
            " [0 1 2]]\n",
            "\n",
            "Element-wise product of the array with itself:\n",
            " [[[ 49 100 100]\n",
            "  [ 49  81  16]\n",
            "  [  9   1  25]]\n",
            "\n",
            " [[  4   4   4]\n",
            "  [ 49   4  36]\n",
            "  [ 25  49   9]]\n",
            "\n",
            " [[ 64   9   9]\n",
            "  [ 36 100  25]\n",
            "  [ 36   9  64]]]\n"
          ]
        }
      ]
    },
    {
      "cell_type": "markdown",
      "source": [
        "# 7.Clean and transform the 'Phone' column in the sample dataset to remove non-numeric characters and convert it to a numeric data type.Also display the table attributes and data types of each column."
      ],
      "metadata": {
        "id": "LC7zJERmHm1p"
      }
    },
    {
      "cell_type": "code",
      "source": [
        "import pandas as pd\n",
        "import numpy as np\n",
        "\n",
        "# Load the CSV file into a Pandas DataFrame\n",
        "df = pd.read_csv('/content/data/PeopleData.csv')\n",
        "\n",
        "# Clean and transform the 'Phone' column\n",
        "def clean_phone_number(phone_number):\n",
        "    if isinstance(phone_number, str):\n",
        "        numeric_chars = ''.join(filter(str.isdigit, phone_number))\n",
        "        if numeric_chars:\n",
        "            return int(numeric_chars)\n",
        "    return np.nan  # Or another appropriate value for invalid phone numbers\n",
        "\n",
        "df['Phone'] = df['Phone'].apply(clean_phone_number)\n",
        "\n",
        "# Display table attributes and data types\n",
        "print(\"Table Attributes and Data Types:\")\n",
        "print(df.info())\n",
        "\n",
        "print(\"\\nDataFrame Head:\")\n",
        "df['Phone'].astype(str)"
      ],
      "metadata": {
        "colab": {
          "base_uri": "https://localhost:8080/",
          "height": 822
        },
        "id": "hSUY7bpDHruY",
        "outputId": "0c455713-8169-4059-b6db-ea8aeb3ceb26"
      },
      "execution_count": 67,
      "outputs": [
        {
          "output_type": "stream",
          "name": "stdout",
          "text": [
            "Table Attributes and Data Types:\n",
            "<class 'pandas.core.frame.DataFrame'>\n",
            "RangeIndex: 1000 entries, 0 to 999\n",
            "Data columns (total 10 columns):\n",
            " #   Column         Non-Null Count  Dtype  \n",
            "---  ------         --------------  -----  \n",
            " 0   Index          1000 non-null   int64  \n",
            " 1   User Id        1000 non-null   object \n",
            " 2   First Name     1000 non-null   object \n",
            " 3   Last Name      1000 non-null   object \n",
            " 4   Gender         1000 non-null   object \n",
            " 5   Email          1000 non-null   object \n",
            " 6   Phone          979 non-null    float64\n",
            " 7   Date of birth  1000 non-null   object \n",
            " 8   Job Title      1000 non-null   object \n",
            " 9   Salary         1000 non-null   int64  \n",
            "dtypes: float64(1), int64(2), object(7)\n",
            "memory usage: 78.2+ KB\n",
            "None\n",
            "\n",
            "DataFrame Head:\n"
          ]
        },
        {
          "output_type": "execute_result",
          "data": {
            "text/plain": [
              "0            8571398239.0\n",
              "1                     nan\n",
              "2            5997820605.0\n",
              "3                     nan\n",
              "4        39041716353010.0\n",
              "              ...        \n",
              "995           217752933.0\n",
              "996      11497107799721.0\n",
              "997    1750774412833265.0\n",
              "998          9152922254.0\n",
              "999      79752542467259.0\n",
              "Name: Phone, Length: 1000, dtype: object"
            ],
            "text/html": [
              "<div>\n",
              "<style scoped>\n",
              "    .dataframe tbody tr th:only-of-type {\n",
              "        vertical-align: middle;\n",
              "    }\n",
              "\n",
              "    .dataframe tbody tr th {\n",
              "        vertical-align: top;\n",
              "    }\n",
              "\n",
              "    .dataframe thead th {\n",
              "        text-align: right;\n",
              "    }\n",
              "</style>\n",
              "<table border=\"1\" class=\"dataframe\">\n",
              "  <thead>\n",
              "    <tr style=\"text-align: right;\">\n",
              "      <th></th>\n",
              "      <th>Phone</th>\n",
              "    </tr>\n",
              "  </thead>\n",
              "  <tbody>\n",
              "    <tr>\n",
              "      <th>0</th>\n",
              "      <td>8571398239.0</td>\n",
              "    </tr>\n",
              "    <tr>\n",
              "      <th>1</th>\n",
              "      <td>nan</td>\n",
              "    </tr>\n",
              "    <tr>\n",
              "      <th>2</th>\n",
              "      <td>5997820605.0</td>\n",
              "    </tr>\n",
              "    <tr>\n",
              "      <th>3</th>\n",
              "      <td>nan</td>\n",
              "    </tr>\n",
              "    <tr>\n",
              "      <th>4</th>\n",
              "      <td>39041716353010.0</td>\n",
              "    </tr>\n",
              "    <tr>\n",
              "      <th>...</th>\n",
              "      <td>...</td>\n",
              "    </tr>\n",
              "    <tr>\n",
              "      <th>995</th>\n",
              "      <td>217752933.0</td>\n",
              "    </tr>\n",
              "    <tr>\n",
              "      <th>996</th>\n",
              "      <td>11497107799721.0</td>\n",
              "    </tr>\n",
              "    <tr>\n",
              "      <th>997</th>\n",
              "      <td>1750774412833265.0</td>\n",
              "    </tr>\n",
              "    <tr>\n",
              "      <th>998</th>\n",
              "      <td>9152922254.0</td>\n",
              "    </tr>\n",
              "    <tr>\n",
              "      <th>999</th>\n",
              "      <td>79752542467259.0</td>\n",
              "    </tr>\n",
              "  </tbody>\n",
              "</table>\n",
              "<p>1000 rows × 1 columns</p>\n",
              "</div><br><label><b>dtype:</b> object</label>"
            ]
          },
          "metadata": {},
          "execution_count": 67
        }
      ]
    },
    {
      "cell_type": "markdown",
      "source": [
        "# 8.Perform the following tasks using people dataset:\n",
        "#a) Read the 'data.csv' file using pandas, skipping the first 50 rows.\n",
        "#b) Only read the columns: 'Last Name', ‘Gender’, ’Email’, ‘Phone’ and ‘Salary’ from the file.\n",
        "#c) Display the first 10 rows of the filtered dataset.\n",
        "#d) Extract the ‘Salary’' column as a Series and display its last 5 values"
      ],
      "metadata": {
        "id": "Y7gTtxPGMlJF"
      }
    },
    {
      "cell_type": "code",
      "source": [
        "df_orig = pd.read_csv('/content/data/PeopleData.csv', usecols=['Last Name', 'Gender', 'Email', 'Phone', 'Salary'])\n",
        "\n",
        "df = df_orig.tail(-50)\n",
        "print(df.head(10))\n",
        "\n",
        "salary_series = df['Salary']\n",
        "print(salary_series.tail(5))"
      ],
      "metadata": {
        "colab": {
          "base_uri": "https://localhost:8080/"
        },
        "id": "MDR3W8FUMoMd",
        "outputId": "5bca7c23-aa15-4353-924b-01da680bb52b"
      },
      "execution_count": 68,
      "outputs": [
        {
          "output_type": "stream",
          "name": "stdout",
          "text": [
            "   Last Name  Gender                       Email                   Phone  \\\n",
            "50    Zavala    Male        pamela64@example.net  001-859-448-9935x54536   \n",
            "51     Carey  Female   dianashepherd@example.net    001-274-739-8470x814   \n",
            "52     Hobbs  Female   ingramtiffany@example.org        241.179.9509x498   \n",
            "53    Reilly    Male  carriecrawford@example.org       207.797.8345x6177   \n",
            "54    Conrad    Male  fuentesclaudia@example.net    001-599-042-7428x143   \n",
            "55      Cole    Male      kaneaudrey@example.org            663-280-5834   \n",
            "56   Donovan    Male   rebekahsantos@example.net                     NaN   \n",
            "57    Little  Female         craig28@example.com       125.219.3673x0076   \n",
            "58    Dawson  Female  connercourtney@example.net      650-748-3069x64529   \n",
            "59      Page    Male  harrygallagher@example.com        849.500.6331x717   \n",
            "\n",
            "    Salary  \n",
            "50   80000  \n",
            "51   70000  \n",
            "52   60000  \n",
            "53  100000  \n",
            "54   50000  \n",
            "55   85000  \n",
            "56   65000  \n",
            "57   60000  \n",
            "58   60000  \n",
            "59   60000  \n",
            "995     90000\n",
            "996     50000\n",
            "997     60000\n",
            "998    100000\n",
            "999     90000\n",
            "Name: Salary, dtype: int64\n"
          ]
        }
      ]
    },
    {
      "cell_type": "markdown",
      "source": [
        "# 9.Filter and select rows from the PeopleDataset, where the \"Last Name\" column contains the name 'Duke', 'Gender' column contains the word Female and ‘Salary’ should be less than 85000"
      ],
      "metadata": {
        "id": "2Ifk7yyqSKsQ"
      }
    },
    {
      "cell_type": "code",
      "source": [
        "\n",
        "# Filter the DataFrame\n",
        "filtered_df = df_orig[\n",
        "    (df_orig['Last Name'].str.contains('Duke', case=False)) &\n",
        "    (df_orig['Gender'] == 'Female') &\n",
        "    (df_orig['Salary'] < 85000)\n",
        "]\n",
        "\n",
        "print(filtered_df)"
      ],
      "metadata": {
        "colab": {
          "base_uri": "https://localhost:8080/"
        },
        "id": "RHyoXduPSbTG",
        "outputId": "cb8f458f-e01f-4be6-dd73-a7d42d71fb7b"
      },
      "execution_count": 69,
      "outputs": [
        {
          "output_type": "stream",
          "name": "stdout",
          "text": [
            "    Last Name  Gender                     Email                   Phone  \\\n",
            "45       Duke  Female       diana26@example.net  001-366-475-8607x04350   \n",
            "210      Duke  Female       robin78@example.com            740.434.0212   \n",
            "457      Duke  Female  perryhoffman@example.org     +1-903-596-0995x489   \n",
            "729      Duke  Female   kevinkramer@example.net            982.692.6257   \n",
            "\n",
            "     Salary  \n",
            "45    60000  \n",
            "210   50000  \n",
            "457   50000  \n",
            "729   70000  \n"
          ]
        }
      ]
    },
    {
      "cell_type": "markdown",
      "source": [
        "# 10.Create a 7X5 Dataframe in Pandas using a series generated from 35 random integers between 1 to 6?\n",
        "\n",
        "---\n",
        "\n"
      ],
      "metadata": {
        "id": "JvN_bkbEVNvW"
      }
    },
    {
      "cell_type": "code",
      "source": [
        "import pandas as pd\n",
        "import numpy as np\n",
        "\n",
        "# Create a series of 35 random integers between 1 and 6\n",
        "data = pd.Series(np.random.randint(1, 7, size=35))\n",
        "\n",
        "# Reshape the series into a 7x5 DataFrame\n",
        "df = pd.DataFrame(data.values.reshape(7, 5))\n",
        "\n",
        "# Print the DataFrame\n",
        "print(df)"
      ],
      "metadata": {
        "colab": {
          "base_uri": "https://localhost:8080/"
        },
        "id": "7GYq3K7HVct0",
        "outputId": "97155c50-c638-4be6-acde-bc92db01427d"
      },
      "execution_count": 70,
      "outputs": [
        {
          "output_type": "stream",
          "name": "stdout",
          "text": [
            "   0  1  2  3  4\n",
            "0  1  4  6  5  6\n",
            "1  6  1  2  1  1\n",
            "2  2  6  4  2  1\n",
            "3  6  5  1  5  4\n",
            "4  2  5  1  6  1\n",
            "5  5  2  6  6  6\n",
            "6  3  3  2  5  1\n"
          ]
        }
      ]
    },
    {
      "cell_type": "code",
      "source": [],
      "metadata": {
        "id": "Iae0mF7oVkJY"
      },
      "execution_count": 70,
      "outputs": []
    }
  ]
}